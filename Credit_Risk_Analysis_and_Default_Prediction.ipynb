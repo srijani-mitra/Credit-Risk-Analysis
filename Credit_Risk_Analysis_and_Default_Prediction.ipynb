{
  "cells": [
    {
      "cell_type": "markdown",
      "metadata": {
        "id": "view-in-github",
        "colab_type": "text"
      },
      "source": [
        "<a href=\"https://colab.research.google.com/github/srijani-mitra/Credit-Risk-Analysis/blob/main/Credit_Risk_Analysis_and_Default_Prediction.ipynb\" target=\"_parent\"><img src=\"https://colab.research.google.com/assets/colab-badge.svg\" alt=\"Open In Colab\"/></a>"
      ]
    },
    {
      "cell_type": "code",
      "source": [
        "import pandas as pd\n",
        "import seaborn as sns\n",
        "import matplotlib.pyplot as plt\n",
        "from sklearn.model_selection import train_test_split, GridSearchCV, cross_val_score\n",
        "from sklearn.preprocessing import StandardScaler\n",
        "from sklearn.linear_model import LogisticRegression\n",
        "from sklearn.svm import SVC\n",
        "from sklearn.ensemble import RandomForestClassifier\n",
        "from sklearn.metrics import accuracy_score, classification_report, confusion_matrix # Added confusion_matrix\n",
        "import numpy as np"
      ],
      "outputs": [],
      "execution_count": 93,
      "metadata": {
        "id": "oeUS0YVd15-_"
      }
    },
    {
      "cell_type": "code",
      "source": [
        "# --- 1. Load and Separate the Data ---\n",
        "df = pd.read_csv('/content/bankloans.csv')\n",
        "print(f\"Original shape of the DataFrame: {df.shape}\")"
      ],
      "metadata": {
        "colab": {
          "base_uri": "https://localhost:8080/"
        },
        "id": "GlSMVDF82McL",
        "outputId": "7b3410d6-a942-4907-f6f5-560e6b958048"
      },
      "execution_count": 94,
      "outputs": [
        {
          "output_type": "stream",
          "name": "stdout",
          "text": [
            "Original shape of the DataFrame: (1150, 9)\n"
          ]
        }
      ]
    },
    {
      "cell_type": "code",
      "source": [
        "# Separate the DataFrame into two parts:\n",
        "# labeled_df: where 'default' is known (not null)\n",
        "# unlabeled_df: where 'default' is unknown (null)\n",
        "labeled_df = df[df['default'].notna()].copy()\n",
        "unlabeled_df = df[df['default'].isna()].copy()\n",
        "\n",
        "# Convert the 'default' column in the labeled data to an integer\n",
        "labeled_df['default'] = labeled_df['default'].astype(int)\n",
        "\n",
        "print(f\"Found {len(labeled_df)} labeled rows to be used for training and testing.\")\n",
        "print(f\"Found {len(unlabeled_df)} unlabeled rows that we will predict.\")"
      ],
      "metadata": {
        "colab": {
          "base_uri": "https://localhost:8080/"
        },
        "id": "zDrQg92K2dYN",
        "outputId": "0855248d-0519-4951-8b26-906b4c53821b"
      },
      "execution_count": 95,
      "outputs": [
        {
          "output_type": "stream",
          "name": "stdout",
          "text": [
            "Found 700 labeled rows to be used for training and testing.\n",
            "Found 450 unlabeled rows that we will predict.\n"
          ]
        }
      ]
    },
    {
      "cell_type": "code",
      "source": [
        "# --- 2. Define Predictors and Target for Labeled Data ---\n",
        "X = labeled_df.drop('default', axis=1)\n",
        "y = labeled_df['default']\n",
        "\n",
        "# Also prepare the predictors from the unlabeled data\n",
        "X_unlabeled = unlabeled_df.drop('default', axis=1)\n",
        "\n",
        "print(\"Predictor and target variables defined from the labeled data.\")"
      ],
      "metadata": {
        "colab": {
          "base_uri": "https://localhost:8080/"
        },
        "id": "hlX6WxUJ2pJn",
        "outputId": "7f34e3f4-a938-4b1e-d60a-0a8343249fc3"
      },
      "execution_count": 96,
      "outputs": [
        {
          "output_type": "stream",
          "name": "stdout",
          "text": [
            "Predictor and target variables defined from the labeled data.\n"
          ]
        }
      ]
    },
    {
      "cell_type": "code",
      "source": [
        "# --- 3. Split Labeled Data into Training and Testing Sets ---\n",
        "X_train, X_test, y_train, y_test = train_test_split(X, y, test_size=0.2, random_state=42, stratify=y)\n",
        "print(\"Labeled data split into training and testing sets.\")"
      ],
      "metadata": {
        "colab": {
          "base_uri": "https://localhost:8080/"
        },
        "id": "jksTEJJ32140",
        "outputId": "b4e51aa6-7b8e-4f40-82fd-721ada3599cf"
      },
      "execution_count": 97,
      "outputs": [
        {
          "output_type": "stream",
          "name": "stdout",
          "text": [
            "Labeled data split into training and testing sets.\n"
          ]
        }
      ]
    },
    {
      "cell_type": "code",
      "source": [
        "# --- 4. Scale the Features ---\n",
        "scaler = StandardScaler()\n",
        "\n",
        "# Fit the scaler ONLY on the training data to avoid data leakage\n",
        "X_train_scaled = scaler.fit_transform(X_train)\n",
        "# Transform the test data and the unlabeled data using the SAME fitted scaler\n",
        "X_test_scaled = scaler.transform(X_test)\n",
        "X_unlabeled_scaled = scaler.transform(X_unlabeled)\n",
        "\n",
        "print(\"Features have been scaled.\")"
      ],
      "metadata": {
        "colab": {
          "base_uri": "https://localhost:8080/"
        },
        "id": "-Tp4lRTs29GH",
        "outputId": "cf340344-16a6-4be4-c512-96695b9ecf86"
      },
      "execution_count": 98,
      "outputs": [
        {
          "output_type": "stream",
          "name": "stdout",
          "text": [
            "Features have been scaled.\n"
          ]
        }
      ]
    },
    {
      "cell_type": "code",
      "source": [
        "# --- 5. Train and Evaluate All Three Models ---\n",
        "# Create a dictionary to hold our models\n",
        "models = {\n",
        "    \"Logistic Regression\": LogisticRegression(random_state=42),\n",
        "    \"Support Vector Machine\": SVC(random_state=42),\n",
        "    \"Random Forest\": RandomForestClassifier(n_estimators=200, random_state=42)\n",
        "}"
      ],
      "metadata": {
        "id": "3xNJ7oFI3D_J"
      },
      "execution_count": 92,
      "outputs": []
    },
    {
      "cell_type": "code",
      "source": [
        "# Store predictions to add them to the DataFrame later\n",
        "predictions = {}\n",
        "\n",
        "for name, model in models.items():\n",
        "    print(f\"--- Training and Evaluating: {name} ---\")\n",
        "\n",
        "    best_model = model # Default to the original model\n",
        "\n",
        "    # --- Special handling for SVM with GridSearchCV ---\n",
        "    if name == \"Support Vector Machine\":\n",
        "        param_grid = {\n",
        "            'C':[0.1,0.2,0.4,0.8,1.2,1.8,4.0,7.0],\n",
        "            'gamma':[0.1,0.4,0.8,1.0,2.0,3.0],\n",
        "            'kernel':['rbf','linear']\n",
        "        }\n",
        "        grid_search = GridSearchCV(SVC(random_state=42, probability=True), param_grid, refit=True, verbose=0, cv=10)\n",
        "        grid_search.fit(X_train_scaled, y_train)\n",
        "        best_model = grid_search.best_estimator_\n",
        "        print(f\"Best parameters found via GridSearchCV: {grid_search.best_params_}\")\n",
        "\n",
        "    # --- Train the final model ---\n",
        "    if name != \"Support Vector Machine\": # SVM is already fit by GridSearchCV\n",
        "        best_model.fit(X_train_scaled, y_train)\n",
        "\n",
        "    print(f\"{name} model has been trained.\")\n",
        "\n",
        "    # --- Special handling for Random Forest with Cross-Validation ---\n",
        "    if name == \"Random Forest\":\n",
        "        # Perform cross-validation on the training data to get a robust performance estimate\n",
        "        cv_scores = cross_val_score(best_model, X_train_scaled, y_train, cv=10)\n",
        "        print(f\"\\nCross-Validation Scores: {cv_scores}\")\n",
        "        print(f\"Average CV Score: {np.mean(cv_scores):.2%}\")\n",
        "\n",
        "    # --- Evaluate the final model on the test set ---\n",
        "    y_pred = best_model.predict(X_test_scaled)\n",
        "    accuracy = accuracy_score(y_test, y_pred)\n",
        "    print(f\"\\nModel Accuracy on Test Data: {accuracy:.2%}\")\n",
        "    print(\"\\nClassification Report:\")\n",
        "    print(classification_report(y_test, y_pred, target_names=['Not Default (0)', 'Default (1)']))\n",
        "\n",
        "    # --- Generate and display detailed results for Logistic Regression only ---\n",
        "    if name == \"Logistic Regression\":\n",
        "    # --- Display Model Coefficients ---\n",
        "        print(\"\\nLogistic Regression Coefficients:\")\n",
        "        coeffs = pd.DataFrame(\n",
        "            best_model.coef_[0],\n",
        "            index=X.columns,\n",
        "            columns=['Coefficient']\n",
        "        ).sort_values(by='Coefficient', ascending=False)\n",
        "        print(coeffs)\n",
        "        print(\"\\n(Positive coefficients increase the likelihood of default, Negative coefficients decrease it.)\")\n",
        "\n",
        "    # --- Generate and display the Confusion Matrix Heatmap ---\n",
        "        cm = confusion_matrix(y_test, y_pred)\n",
        "        plt.figure(figsize=(8, 6))\n",
        "        sns.heatmap(cm, annot=True, fmt='d', cmap='Blues',\n",
        "                    xticklabels=['Predicted Not Default', 'Predicted Default'],\n",
        "                    yticklabels=['Actual Not Default', 'Actual Default'])\n",
        "        plt.title(f'Confusion Matrix for {name}')\n",
        "        plt.ylabel('Actual')\n",
        "        plt.xlabel('Predicted')\n",
        "        plt.show()\n",
        "\n",
        "    # --- Predict the missing values in the unlabeled data ---\n",
        "    unlabeled_predictions = best_model.predict(X_unlabeled_scaled)\n",
        "    # Add the predictions to the original df DataFrame for the unlabeled rows\n",
        "    # Make sure the index aligns correctly\n",
        "    df.loc[unlabeled_df.index, f'predicted_default_{name.replace(\" \", \"_\")}'] = unlabeled_predictions.astype(int)"
      ],
      "metadata": {
        "colab": {
          "base_uri": "https://localhost:8080/",
          "height": 1000
        },
        "id": "j6HOwiGo3LRN",
        "outputId": "841966b5-aa48-483f-f1d4-ba02bd24a305"
      },
      "execution_count": 100,
      "outputs": [
        {
          "output_type": "stream",
          "name": "stdout",
          "text": [
            "--- Training and Evaluating: Logistic Regression ---\n",
            "Logistic Regression model has been trained.\n",
            "\n",
            "Model Accuracy on Test Data: 81.43%\n",
            "\n",
            "Classification Report:\n",
            "                 precision    recall  f1-score   support\n",
            "\n",
            "Not Default (0)       0.87      0.88      0.88       103\n",
            "    Default (1)       0.66      0.62      0.64        37\n",
            "\n",
            "       accuracy                           0.81       140\n",
            "      macro avg       0.76      0.75      0.76       140\n",
            "   weighted avg       0.81      0.81      0.81       140\n",
            "\n",
            "\n",
            "Logistic Regression Coefficients:\n",
            "          Coefficient\n",
            "creddebt     1.136533\n",
            "debtinc      0.428680\n",
            "age          0.236553\n",
            "othdebt      0.178293\n",
            "ed           0.063615\n",
            "income      -0.209166\n",
            "address     -0.658794\n",
            "employ      -1.663090\n",
            "\n",
            "(Positive coefficients increase the likelihood of default, Negative coefficients decrease it.)\n"
          ]
        },
        {
          "output_type": "display_data",
          "data": {
            "text/plain": [
              "<Figure size 800x600 with 2 Axes>"
            ],
            "image/png": "[encoded data removed]"
          },
          "metadata": {}
        },
        {
          "output_type": "stream",
          "name": "stdout",
          "text": [
            "--- Training and Evaluating: Support Vector Machine ---\n",
            "Best parameters found via GridSearchCV: {'C': 0.8, 'gamma': 0.1, 'kernel': 'linear'}\n",
            "Support Vector Machine model has been trained.\n",
            "\n",
            "Model Accuracy on Test Data: 83.57%\n",
            "\n",
            "Classification Report:\n",
            "                 precision    recall  f1-score   support\n",
            "\n",
            "Not Default (0)       0.86      0.92      0.89       103\n",
            "    Default (1)       0.73      0.59      0.66        37\n",
            "\n",
            "       accuracy                           0.84       140\n",
            "      macro avg       0.80      0.76      0.77       140\n",
            "   weighted avg       0.83      0.84      0.83       140\n",
            "\n",
            "--- Training and Evaluating: Random Forest ---\n",
            "Random Forest model has been trained.\n",
            "\n",
            "Cross-Validation Scores: [0.78571429 0.82142857 0.80357143 0.71428571 0.80357143 0.80357143\n",
            " 0.83928571 0.75       0.82142857 0.78571429]\n",
            "Average CV Score: 79.29%\n",
            "\n",
            "Model Accuracy on Test Data: 83.57%\n",
            "\n",
            "Classification Report:\n",
            "                 precision    recall  f1-score   support\n",
            "\n",
            "Not Default (0)       0.86      0.92      0.89       103\n",
            "    Default (1)       0.73      0.59      0.66        37\n",
            "\n",
            "       accuracy                           0.84       140\n",
            "      macro avg       0.80      0.76      0.77       140\n",
            "   weighted avg       0.83      0.84      0.83       140\n",
            "\n"
          ]
        }
      ]
    },
    {
      "cell_type": "code",
      "source": [
        "# --- 6. Display Final Results ---\n",
        "print(\"\\n All models trained and predictions completed.\")\n",
        "print(\"Displaying the first 10 rows of the original dataframe with new prediction columns.\")\n",
        "print(\"Scroll right to see the new columns for rows where 'default' was originally NaN.\")"
      ],
      "metadata": {
        "colab": {
          "base_uri": "https://localhost:8080/"
        },
        "id": "oPAJrCes3Yx8",
        "outputId": "a040db13-164a-43d1-9960-9b3793b5d7ca"
      },
      "execution_count": 101,
      "outputs": [
        {
          "output_type": "stream",
          "name": "stdout",
          "text": [
            "\n",
            " All models trained and predictions completed.\n",
            "Displaying the first 10 rows of the original dataframe with new prediction columns.\n",
            "Scroll right to see the new columns for rows where 'default' was originally NaN.\n"
          ]
        }
      ]
    },
    {
      "cell_type": "code",
      "source": [
        "# Inspecting the rows that were originally null\n",
        "print(\"\\nInspecting rows where 'default' was originally NaN:\")\n",
        "print(df[df['default'].isna()].head(10))"
      ],
      "metadata": {
        "colab": {
          "base_uri": "https://localhost:8080/"
        },
        "id": "wIr56xWQ3kOO",
        "outputId": "b1603d72-2e23-4a9b-af99-df7fd90757a2"
      },
      "execution_count": 102,
      "outputs": [
        {
          "output_type": "stream",
          "name": "stdout",
          "text": [
            "\n",
            "Inspecting rows where 'default' was originally NaN:\n",
            "     age  ed  employ  address  income  debtinc   creddebt    othdebt  default  \\\n",
            "700   36   1      16       13      32     10.9   0.544128   2.943872      NaN   \n",
            "701   50   1       6       27      21     12.9   1.316574   1.392426      NaN   \n",
            "702   40   1       9        9      33     17.0   4.880700   0.729300      NaN   \n",
            "703   31   1       5        7      23      2.0   0.046000   0.414000      NaN   \n",
            "704   29   1       4        0      24      7.8   0.866736   1.005264      NaN   \n",
            "705   25   2       1        3      14      9.9   0.232848   1.153152      NaN   \n",
            "706   34   1       4        3      28      9.4   1.058064   1.573936      NaN   \n",
            "707   50   1      30        8     150     32.5  13.552500  35.197500      NaN   \n",
            "708   27   1       5        5      26      1.2   0.130416   0.181584      NaN   \n",
            "709   31   4       7       12      97      6.0   1.827480   3.992520      NaN   \n",
            "\n",
            "     predicted_default_Logistic_Regression  \\\n",
            "700                                    0.0   \n",
            "701                                    0.0   \n",
            "702                                    1.0   \n",
            "703                                    0.0   \n",
            "704                                    0.0   \n",
            "705                                    0.0   \n",
            "706                                    0.0   \n",
            "707                                    1.0   \n",
            "708                                    0.0   \n",
            "709                                    0.0   \n",
            "\n",
            "     predicted_default_Support_Vector_Machine  predicted_default_Random_Forest  \n",
            "700                                       0.0                              0.0  \n",
            "701                                       0.0                              0.0  \n",
            "702                                       1.0                              1.0  \n",
            "703                                       0.0                              0.0  \n",
            "704                                       0.0                              0.0  \n",
            "705                                       0.0                              0.0  \n",
            "706                                       0.0                              0.0  \n",
            "707                                       1.0                              1.0  \n",
            "708                                       0.0                              0.0  \n",
            "709                                       0.0                              0.0  \n"
          ]
        }
      ]
    },
    {
      "cell_type": "code",
      "source": [
        "# --- 7. Compare Model Predictions on Unlabeled Data ---\n",
        "\n",
        "print(\"\\n--- Comparing Model Predictions on Unlabeled Data ---\")\n",
        "\n",
        "# Select the prediction columns for the unlabeled data\n",
        "prediction_cols = [col for col in df.columns if col.startswith('predicted_default_')]\n",
        "unlabeled_predictions_df = df[df['default'].isna()][prediction_cols]\n",
        "\n",
        "# Display the first few rows of predictions for the unlabeled data\n",
        "print(\"\\nFirst 5 rows of predictions for unlabeled data:\")\n",
        "\n",
        "display(unlabeled_predictions_df.head(5))\n",
        "\n",
        "# Compare predictions across models\n",
        "if len(prediction_cols) >= 2:\n",
        "    print(\"\\nComparison of predictions:\")\n",
        "    # Check where all models agree\n",
        "    all_agree = (unlabeled_predictions_df.nunique(axis=1) == 1).sum()\n",
        "    print(f\"Number of rows where all models agree on the prediction: {all_agree}\")\n",
        "\n",
        "    # Check where at least two models disagree\n",
        "    at_least_one_disagree = len(unlabeled_predictions_df) - all_agree\n",
        "    print(f\"Number of rows where at least two models disagree on the prediction: {at_least_one_disagree}\")\n",
        "\n",
        "    # You could also do pairwise comparisons if desired\n",
        "    if len(prediction_cols) == 3:\n",
        "        lr_svm_agree = (unlabeled_predictions_df['predicted_default_Logistic_Regression'] == unlabeled_predictions_df['predicted_default_Support_Vector_Machine']).sum()\n",
        "        lr_rf_agree = (unlabeled_predictions_df['predicted_default_Logistic_Regression'] == unlabeled_predictions_df['predicted_default_Random_Forest']).sum()\n",
        "        svm_rf_agree = (unlabeled_predictions_df['predicted_default_Support_Vector_Machine'] == unlabeled_predictions_df['predicted_default_Random_Forest']).sum()\n",
        "\n",
        "        print(f\"\\nPairwise agreement:\")\n",
        "        print(f\"Logistic Regression and SVM agree on {lr_svm_agree} predictions.\")\n",
        "        print(f\"Logistic Regression and Random Forest agree on {lr_rf_agree} predictions.\")\n",
        "        print(f\"SVM and Random Forest agree on {svm_rf_agree} predictions.\")\n",
        "\n",
        "else:\n",
        "    print(\"Not enough models to compare predictions.\")"
      ],
      "metadata": {
        "colab": {
          "base_uri": "https://localhost:8080/",
          "height": 458
        },
        "id": "5YdjC2IJBcP1",
        "outputId": "b742d00e-39b4-424a-ff56-c5cc234f80bd"
      },
      "execution_count": 103,
      "outputs": [
        {
          "output_type": "stream",
          "name": "stdout",
          "text": [
            "\n",
            "--- Comparing Model Predictions on Unlabeled Data ---\n",
            "\n",
            "First 5 rows of predictions for unlabeled data:\n"
          ]
        },
        {
          "output_type": "display_data",
          "data": {
            "text/plain": [
              "     predicted_default_Logistic_Regression  \\\n",
              "700                                    0.0   \n",
              "701                                    0.0   \n",
              "702                                    1.0   \n",
              "703                                    0.0   \n",
              "704                                    0.0   \n",
              "\n",
              "     predicted_default_Support_Vector_Machine  predicted_default_Random_Forest  \n",
              "700                                       0.0                              0.0  \n",
              "701                                       0.0                              0.0  \n",
              "702                                       1.0                              1.0  \n",
              "703                                       0.0                              0.0  \n",
              "704                                       0.0                              0.0  "
            ],
            "text/html": [
              "\n",
              "  <div id=\"df-974ff3ce-c856-4b8b-bdf0-7de0c8232480\" class=\"colab-df-container\">\n",
              "    <div>\n",
              "<style scoped>\n",
              "    .dataframe tbody tr th:only-of-type {\n",
              "        vertical-align: middle;\n",
              "    }\n",
              "\n",
              "    .dataframe tbody tr th {\n",
              "        vertical-align: top;\n",
              "    }\n",
              "\n",
              "    .dataframe thead th {\n",
              "        text-align: right;\n",
              "    }\n",
              "</style>\n",
              "<table border=\"1\" class=\"dataframe\">\n",
              "  <thead>\n",
              "    <tr style=\"text-align: right;\">\n",
              "      <th></th>\n",
              "      <th>predicted_default_Logistic_Regression</th>\n",
              "      <th>predicted_default_Support_Vector_Machine</th>\n",
              "      <th>predicted_default_Random_Forest</th>\n",
              "    </tr>\n",
              "  </thead>\n",
              "  <tbody>\n",
              "    <tr>\n",
              "      <th>700</th>\n",
              "      <td>0.0</td>\n",
              "      <td>0.0</td>\n",
              "      <td>0.0</td>\n",
              "    </tr>\n",
              "    <tr>\n",
              "      <th>701</th>\n",
              "      <td>0.0</td>\n",
              "      <td>0.0</td>\n",
              "      <td>0.0</td>\n",
              "    </tr>\n",
              "    <tr>\n",
              "      <th>702</th>\n",
              "      <td>1.0</td>\n",
              "      <td>1.0</td>\n",
              "      <td>1.0</td>\n",
              "    </tr>\n",
              "    <tr>\n",
              "      <th>703</th>\n",
              "      <td>0.0</td>\n",
              "      <td>0.0</td>\n",
              "      <td>0.0</td>\n",
              "    </tr>\n",
              "    <tr>\n",
              "      <th>704</th>\n",
              "      <td>0.0</td>\n",
              "      <td>0.0</td>\n",
              "      <td>0.0</td>\n",
              "    </tr>\n",
              "  </tbody>\n",
              "</table>\n",
              "</div>\n",
              "    <div class=\"colab-df-buttons\">\n",
              "\n",
              "  <div class=\"colab-df-container\">\n",
              "    <button class=\"colab-df-convert\" onclick=\"convertToInteractive('df-974ff3ce-c856-4b8b-bdf0-7de0c8232480')\"\n",
              "            title=\"Convert this dataframe to an interactive table.\"\n",
              "            style=\"display:none;\">\n",
              "\n",
              "  <svg xmlns=\"http://www.w3.org/2000/svg\" height=\"24px\" viewBox=\"0 -960 960 960\">\n",
              "    <path d=\"M120-120v-720h720v720H120Zm60-500h600v-160H180v160Zm220 220h160v-160H400v160Zm0 220h160v-160H400v160ZM180-400h160v-160H180v160Zm440 0h160v-160H620v160ZM180-180h160v-160H180v160Zm440 0h160v-160H620v160Z\"/>\n",
              "  </svg>\n",
              "    </button>\n",
              "\n",
              "  <style>\n",
              "    .colab-df-container {\n",
              "      display:flex;\n",
              "      gap: 12px;\n",
              "    }\n",
              "\n",
              "    .colab-df-convert {\n",
              "      background-color: #E8F0FE;\n",
              "      border: none;\n",
              "      border-radius: 50%;\n",
              "      cursor: pointer;\n",
              "      display: none;\n",
              "      fill: #1967D2;\n",
              "      height: 32px;\n",
              "      padding: 0 0 0 0;\n",
              "      width: 32px;\n",
              "    }\n",
              "\n",
              "    .colab-df-convert:hover {\n",
              "      background-color: #E2EBFA;\n",
              "      box-shadow: 0px 1px 2px rgba(60, 64, 67, 0.3), 0px 1px 3px 1px rgba(60, 64, 67, 0.15);\n",
              "      fill: #174EA6;\n",
              "    }\n",
              "\n",
              "    .colab-df-buttons div {\n",
              "      margin-bottom: 4px;\n",
              "    }\n",
              "\n",
              "    [theme=dark] .colab-df-convert {\n",
              "      background-color: #3B4455;\n",
              "      fill: #D2E3FC;\n",
              "    }\n",
              "\n",
              "    [theme=dark] .colab-df-convert:hover {\n",
              "      background-color: #434B5C;\n",
              "      box-shadow: 0px 1px 3px 1px rgba(0, 0, 0, 0.15);\n",
              "      filter: drop-shadow(0px 1px 2px rgba(0, 0, 0, 0.3));\n",
              "      fill: #FFFFFF;\n",
              "    }\n",
              "  </style>\n",
              "\n",
              "    <script>\n",
              "      const buttonEl =\n",
              "        document.querySelector('#df-974ff3ce-c856-4b8b-bdf0-7de0c8232480 button.colab-df-convert');\n",
              "      buttonEl.style.display =\n",
              "        google.colab.kernel.accessAllowed ? 'block' : 'none';\n",
              "\n",
              "      async function convertToInteractive(key) {\n",
              "        const element = document.querySelector('#df-974ff3ce-c856-4b8b-bdf0-7de0c8232480');\n",
              "        const dataTable =\n",
              "          await google.colab.kernel.invokeFunction('convertToInteractive',\n",
              "                                                    [key], {});\n",
              "        if (!dataTable) return;\n",
              "\n",
              "        const docLinkHtml = 'Like what you see? Visit the ' +\n",
              "          '<a target=\"_blank\" href=https://colab.research.google.com/notebooks/data_table.ipynb>data table notebook</a>'\n",
              "          + ' to learn more about interactive tables.';\n",
              "        element.innerHTML = '';\n",
              "        dataTable['output_type'] = 'display_data';\n",
              "        await google.colab.output.renderOutput(dataTable, element);\n",
              "        const docLink = document.createElement('div');\n",
              "        docLink.innerHTML = docLinkHtml;\n",
              "        element.appendChild(docLink);\n",
              "      }\n",
              "    </script>\n",
              "  </div>\n",
              "\n",
              "\n",
              "    <div id=\"df-1e758dde-b4a5-4277-87af-58ac1c8f0e77\">\n",
              "      <button class=\"colab-df-quickchart\" onclick=\"quickchart('df-1e758dde-b4a5-4277-87af-58ac1c8f0e77')\"\n",
              "                title=\"Suggest charts\"\n",
              "                style=\"display:none;\">\n",
              "\n",
              "<svg xmlns=\"http://www.w3.org/2000/svg\" height=\"24px\"viewBox=\"0 0 24 24\"\n",
              "     width=\"24px\">\n",
              "    <g>\n",
              "        <path d=\"M19 3H5c-1.1 0-2 .9-2 2v14c0 1.1.9 2 2 2h14c1.1 0 2-.9 2-2V5c0-1.1-.9-2-2-2zM9 17H7v-7h2v7zm4 0h-2V7h2v10zm4 0h-2v-4h2v4z\"/>\n",
              "    </g>\n",
              "</svg>\n",
              "      </button>\n",
              "\n",
              "<style>\n",
              "  .colab-df-quickchart {\n",
              "      --bg-color: #E8F0FE;\n",
              "      --fill-color: #1967D2;\n",
              "      --hover-bg-color: #E2EBFA;\n",
              "      --hover-fill-color: #174EA6;\n",
              "      --disabled-fill-color: #AAA;\n",
              "      --disabled-bg-color: #DDD;\n",
              "  }\n",
              "\n",
              "  [theme=dark] .colab-df-quickchart {\n",
              "      --bg-color: #3B4455;\n",
              "      --fill-color: #D2E3FC;\n",
              "      --hover-bg-color: #434B5C;\n",
              "      --hover-fill-color: #FFFFFF;\n",
              "      --disabled-bg-color: #3B4455;\n",
              "      --disabled-fill-color: #666;\n",
              "  }\n",
              "\n",
              "  .colab-df-quickchart {\n",
              "    background-color: var(--bg-color);\n",
              "    border: none;\n",
              "    border-radius: 50%;\n",
              "    cursor: pointer;\n",
              "    display: none;\n",
              "    fill: var(--fill-color);\n",
              "    height: 32px;\n",
              "    padding: 0;\n",
              "    width: 32px;\n",
              "  }\n",
              "\n",
              "  .colab-df-quickchart:hover {\n",
              "    background-color: var(--hover-bg-color);\n",
              "    box-shadow: 0 1px 2px rgba(60, 64, 67, 0.3), 0 1px 3px 1px rgba(60, 64, 67, 0.15);\n",
              "    fill: var(--button-hover-fill-color);\n",
              "  }\n",
              "\n",
              "  .colab-df-quickchart-complete:disabled,\n",
              "  .colab-df-quickchart-complete:disabled:hover {\n",
              "    background-color: var(--disabled-bg-color);\n",
              "    fill: var(--disabled-fill-color);\n",
              "    box-shadow: none;\n",
              "  }\n",
              "\n",
              "  .colab-df-spinner {\n",
              "    border: 2px solid var(--fill-color);\n",
              "    border-color: transparent;\n",
              "    border-bottom-color: var(--fill-color);\n",
              "    animation:\n",
              "      spin 1s steps(1) infinite;\n",
              "  }\n",
              "\n",
              "  @keyframes spin {\n",
              "    0% {\n",
              "      border-color: transparent;\n",
              "      border-bottom-color: var(--fill-color);\n",
              "      border-left-color: var(--fill-color);\n",
              "    }\n",
              "    20% {\n",
              "      border-color: transparent;\n",
              "      border-left-color: var(--fill-color);\n",
              "      border-top-color: var(--fill-color);\n",
              "    }\n",
              "    30% {\n",
              "      border-color: transparent;\n",
              "      border-left-color: var(--fill-color);\n",
              "      border-top-color: var(--fill-color);\n",
              "      border-right-color: var(--fill-color);\n",
              "    }\n",
              "    40% {\n",
              "      border-color: transparent;\n",
              "      border-right-color: var(--fill-color);\n",
              "      border-top-color: var(--fill-color);\n",
              "    }\n",
              "    60% {\n",
              "      border-color: transparent;\n",
              "      border-right-color: var(--fill-color);\n",
              "    }\n",
              "    80% {\n",
              "      border-color: transparent;\n",
              "      border-right-color: var(--fill-color);\n",
              "      border-bottom-color: var(--fill-color);\n",
              "    }\n",
              "    90% {\n",
              "      border-color: transparent;\n",
              "      border-bottom-color: var(--fill-color);\n",
              "    }\n",
              "  }\n",
              "</style>\n",
              "\n",
              "      <script>\n",
              "        async function quickchart(key) {\n",
              "          const quickchartButtonEl =\n",
              "            document.querySelector('#' + key + ' button');\n",
              "          quickchartButtonEl.disabled = true;  // To prevent multiple clicks.\n",
              "          quickchartButtonEl.classList.add('colab-df-spinner');\n",
              "          try {\n",
              "            const charts = await google.colab.kernel.invokeFunction(\n",
              "                'suggestCharts', [key], {});\n",
              "          } catch (error) {\n",
              "            console.error('Error during call to suggestCharts:', error);\n",
              "          }\n",
              "          quickchartButtonEl.classList.remove('colab-df-spinner');\n",
              "          quickchartButtonEl.classList.add('colab-df-quickchart-complete');\n",
              "        }\n",
              "        (() => {\n",
              "          let quickchartButtonEl =\n",
              "            document.querySelector('#df-1e758dde-b4a5-4277-87af-58ac1c8f0e77 button');\n",
              "          quickchartButtonEl.style.display =\n",
              "            google.colab.kernel.accessAllowed ? 'block' : 'none';\n",
              "        })();\n",
              "      </script>\n",
              "    </div>\n",
              "\n",
              "    </div>\n",
              "  </div>\n"
            ],
            "application/vnd.google.colaboratory.intrinsic+json": {
              "type": "dataframe",
              "summary": "{\n  \"name\": \"    print(\\\"Not enough models to compare predictions\",\n  \"rows\": 5,\n  \"fields\": [\n    {\n      \"column\": \"predicted_default_Logistic_Regression\",\n      \"properties\": {\n        \"dtype\": \"number\",\n        \"std\": 0.44721359549995804,\n        \"min\": 0.0,\n        \"max\": 1.0,\n        \"num_unique_values\": 2,\n        \"samples\": [\n          1.0,\n          0.0\n        ],\n        \"semantic_type\": \"\",\n        \"description\": \"\"\n      }\n    },\n    {\n      \"column\": \"predicted_default_Support_Vector_Machine\",\n      \"properties\": {\n        \"dtype\": \"number\",\n        \"std\": 0.44721359549995804,\n        \"min\": 0.0,\n        \"max\": 1.0,\n        \"num_unique_values\": 2,\n        \"samples\": [\n          1.0,\n          0.0\n        ],\n        \"semantic_type\": \"\",\n        \"description\": \"\"\n      }\n    },\n    {\n      \"column\": \"predicted_default_Random_Forest\",\n      \"properties\": {\n        \"dtype\": \"number\",\n        \"std\": 0.44721359549995804,\n        \"min\": 0.0,\n        \"max\": 1.0,\n        \"num_unique_values\": 2,\n        \"samples\": [\n          1.0,\n          0.0\n        ],\n        \"semantic_type\": \"\",\n        \"description\": \"\"\n      }\n    }\n  ]\n}"
            }
          },
          "metadata": {}
        },
        {
          "output_type": "stream",
          "name": "stdout",
          "text": [
            "\n",
            "Comparison of predictions:\n",
            "Number of rows where all models agree on the prediction: 414\n",
            "Number of rows where at least two models disagree on the prediction: 36\n",
            "\n",
            "Pairwise agreement:\n",
            "Logistic Regression and SVM agree on 438 predictions.\n",
            "Logistic Regression and Random Forest agree on 414 predictions.\n",
            "SVM and Random Forest agree on 426 predictions.\n"
          ]
        }
      ]
    }
  ],
  "metadata": {
    "colab": {
      "provenance": [],
      "include_colab_link": true
    },
    "kernelspec": {
      "display_name": "Python 3",
      "name": "python3"
    }
  },
  "nbformat": 4,
  "nbformat_minor": 0
}